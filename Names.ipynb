{
 "cells": [
  {
   "cell_type": "markdown",
   "metadata": {},
   "source": [
    "#### **ANALYZING POLISH BABY NAME TRENDS**\n",
    "\n",
    "In this project I'll use data published by dane.gov.pl containing names given to Polish children from 2000 to 2021."
   ]
  },
  {
   "cell_type": "code",
   "execution_count": 27,
   "metadata": {},
   "outputs": [],
   "source": [
    "# Data is split into 5 files:\n",
    "# 1. male and female names given to childen from 2000 to 2019:\n",
    "# url1 = \"https://api.dane.gov.pl/resources/21458,imiona-nadane-dzieciom-w-polsce-w-latach-2000-2019-imie-pierwsze/csv\"\n",
    "\n",
    "# 2. male names given in 2020:\n",
    "# url2= \"https://api.dane.gov.pl/resources/28020,imiona-meskie-nadane-dzieciom-w-polsce-w-2020-r-imie-pierwsze/csv\"\n",
    "# \n",
    "# 3. male names given in 2021:\n",
    "# url3 = \"https://api.dane.gov.pl/resources/36393,imiona-meskie-nadane-dzieciom-w-polsce-w-2021-r-imie-pierwsze/csv\"\n",
    "# \n",
    "# 4. female names given in 2020:\n",
    "# url4 = \"https://api.dane.gov.pl/resources/28021,imiona-zenskie-nadane-dzieciom-w-polsce-w-2020-r-imie-pierwsze/csv\"\n",
    "# \n",
    "# 5. female names given in 2021:\n",
    "# url5 = \"https://api.dane.gov.pl/resources/36394,imiona-zenskie-nadane-dzieciom-w-polsce-w-2021-r-imie-pierwsze/csv\""
   ]
  },
  {
   "cell_type": "code",
   "execution_count": 28,
   "metadata": {},
   "outputs": [],
   "source": [
    "#Data is split into 5 datasets:\n",
    "# 1. male and female names given to childen from 2000 to 2019\n",
    "# 2. male names given in 2020\n",
    "# 3. male names given in 2021\n",
    "# 4. female names given in 2020\n",
    "# 5. female names given in 2021\n",
    "\n",
    "#urls to datasets are contained in 'urls' dictionary\n",
    "urls = {\n",
    "    \"2000_2019\": \"https://api.dane.gov.pl/resources/21458,imiona-nadane-dzieciom-w-polsce-w-latach-2000-2019-imie-pierwsze/csv\", \n",
    "    \"2020_M\": \"https://api.dane.gov.pl/resources/28020,imiona-meskie-nadane-dzieciom-w-polsce-w-2020-r-imie-pierwsze/csv\",\n",
    "    \"2021_M\": \"https://api.dane.gov.pl/resources/36393,imiona-meskie-nadane-dzieciom-w-polsce-w-2021-r-imie-pierwsze/csv\",\n",
    "    \"2020_F\": \"https://api.dane.gov.pl/resources/28021,imiona-zenskie-nadane-dzieciom-w-polsce-w-2020-r-imie-pierwsze/csv\",\n",
    "    \"2021_F\": \"https://api.dane.gov.pl/resources/36394,imiona-zenskie-nadane-dzieciom-w-polsce-w-2021-r-imie-pierwsze/csv\"\n",
    "    }"
   ]
  },
  {
   "cell_type": "code",
   "execution_count": 29,
   "metadata": {},
   "outputs": [],
   "source": [
    "#importing packages\n",
    "import requests\n",
    "import io\n",
    "import pandas as pd\n",
    "import matplotlib.pyplot as plt\n",
    "import seaborn as sns"
   ]
  },
  {
   "cell_type": "markdown",
   "metadata": {},
   "source": [
    "#### **DATA IMPORTING AND CLEANING**\n",
    "\n",
    "The largest dataset (2000-2019) has a different structure (column names and order) than the other 4 datasets (these are similar, but all lack the 'year' column). \n",
    "First the largest dataset will be imported and then the 4 smaller ones."
   ]
  },
  {
   "cell_type": "code",
   "execution_count": 30,
   "metadata": {},
   "outputs": [
    {
     "name": "stdout",
     "output_type": "stream",
     "text": [
      "<class 'pandas.core.frame.DataFrame'>\n",
      "RangeIndex: 24461 entries, 0 to 24460\n",
      "Data columns (total 4 columns):\n",
      " #   Column  Non-Null Count  Dtype \n",
      "---  ------  --------------  ----- \n",
      " 0   Rok     24461 non-null  int64 \n",
      " 1   Imię    24461 non-null  object\n",
      " 2   Liczba  24461 non-null  int64 \n",
      " 3   Płeć    24461 non-null  object\n",
      "dtypes: int64(2), object(2)\n",
      "memory usage: 764.5+ KB\n",
      "<class 'pandas.core.frame.DataFrame'>\n",
      "RangeIndex: 799 entries, 0 to 798\n",
      "Data columns (total 3 columns):\n",
      " #   Column            Non-Null Count  Dtype \n",
      "---  ------            --------------  ----- \n",
      " 0   IMIĘ_PIERWSZE     799 non-null    object\n",
      " 1   PŁEĆ              799 non-null    object\n",
      " 2   LICZBA_WYSTĄPIEŃ  799 non-null    int64 \n",
      "dtypes: int64(1), object(2)\n",
      "memory usage: 18.9+ KB\n",
      "<class 'pandas.core.frame.DataFrame'>\n",
      "RangeIndex: 860 entries, 0 to 859\n",
      "Data columns (total 3 columns):\n",
      " #   Column            Non-Null Count  Dtype \n",
      "---  ------            --------------  ----- \n",
      " 0   IMIĘ_PIERWSZE     860 non-null    object\n",
      " 1   PŁEĆ              860 non-null    object\n",
      " 2   LICZBA_WYSTĄPIEŃ  860 non-null    int64 \n",
      "dtypes: int64(1), object(2)\n",
      "memory usage: 20.3+ KB\n",
      "<class 'pandas.core.frame.DataFrame'>\n",
      "RangeIndex: 799 entries, 0 to 798\n",
      "Data columns (total 3 columns):\n",
      " #   Column            Non-Null Count  Dtype \n",
      "---  ------            --------------  ----- \n",
      " 0   IMIĘ_PIERWSZE     799 non-null    object\n",
      " 1   PŁEĆ              799 non-null    object\n",
      " 2   LICZBA_WYSTĄPIEŃ  799 non-null    int64 \n",
      "dtypes: int64(1), object(2)\n",
      "memory usage: 18.9+ KB\n",
      "<class 'pandas.core.frame.DataFrame'>\n",
      "RangeIndex: 822 entries, 0 to 821\n",
      "Data columns (total 3 columns):\n",
      " #   Column            Non-Null Count  Dtype \n",
      "---  ------            --------------  ----- \n",
      " 0   IMIĘ_PIERWSZE     822 non-null    object\n",
      " 1   PŁEĆ              822 non-null    object\n",
      " 2   LICZBA_WYSTĄPIEŃ  822 non-null    int64 \n",
      "dtypes: int64(1), object(2)\n",
      "memory usage: 19.4+ KB\n"
     ]
    }
   ],
   "source": [
    "#import all datasets\n",
    "dataframes = {} #create empty list for dataframes\n",
    "for url in urls.values():\n",
    "    # r_temp = requests.get(value) #create a requests object\n",
    "    # temp_df = pd.read_csv(io.StringIO(r_temp.text)) #extract text from requests object and put it into dataframe\n",
    "    temp_df = pd.read_csv(url)\n",
    "    dataframes.append(temp_df) #append dataframe to df_list\n",
    "    \n",
    "for df in dataframes:\n",
    "    df.info()\n"
   ]
  },
  {
   "cell_type": "markdown",
   "metadata": {},
   "source": [
    "* We can see that all 5 datasets contain following columns: 'name(imię)', 'sex(płeć)' and 'number_of_occurences(liczba)'.\n",
    "\n",
    "* Only first dataset contain 'year(rok)' column. Column 'year' has to be added to 4 other datasets.\n",
    "\n",
    "* Column names and order of columns differ between first and other datasets. It has to be unified before concatenation.\n",
    "\n",
    "* There are no null values.\n"
   ]
  },
  {
   "cell_type": "code",
   "execution_count": 31,
   "metadata": {},
   "outputs": [],
   "source": [
    "# import the largest file (data from 2000 to 2019) from url1\n",
    "# r = requests.get(url1) #create a requests object\n",
    "# names_2000_2019 = pd.read_csv(io.StringIO(r.text)) #extract text from requests object and put it into dataframe\n",
    "# names_2000_2019.shape #explore the shape of df"
   ]
  },
  {
   "cell_type": "code",
   "execution_count": 32,
   "metadata": {},
   "outputs": [],
   "source": [
    "# names_2000_2019.head() #see columns and first rows of names_2000_2019"
   ]
  },
  {
   "cell_type": "code",
   "execution_count": 33,
   "metadata": {},
   "outputs": [],
   "source": [
    "#import the other 4 (smaller) datasets, add 'year' column to each\n",
    "# \n",
    "# url_list = [url2, url3, url4, url5] #create list of urls\n",
    "# df_list = [] #create empty list for dataframes\n",
    "year_list = [2020,2021,2020,2021] #create list of years that have to added as columns to 4 datasets\n",
    "\n",
    "# for url in url_list:\n",
    "    # r_temp = requests.get(url) #create a requests object\n",
    "    # temp_df = pd.read_csv(io.StringIO(r_temp.text)) #extract text from requests object and put it into dataframe\n",
    "    # temp_df['year'] = year_list.pop(0) #pop first item of year_list and store it as year column of a new df\n",
    "    # df_list.append(temp_df) #append dataframe to df_list"
   ]
  },
  {
   "cell_type": "code",
   "execution_count": 34,
   "metadata": {},
   "outputs": [],
   "source": [
    "#see 5 first rows of first df in df_list\n",
    "# print(df_list[0][:5])"
   ]
  },
  {
   "cell_type": "code",
   "execution_count": 35,
   "metadata": {},
   "outputs": [],
   "source": [
    "#see 5 last rows of fourth df in df_list\n",
    "# print(df_list[3][-5:])"
   ]
  },
  {
   "cell_type": "markdown",
   "metadata": {},
   "source": [
    "DATA CONCATENATION AND TRANSFORMATION\n",
    "\n",
    "The 4 smaller dataframes (for single years) have to be concatenated. Dataframe 'names_2020_2021' will be created. Before it's concatenated to 'names_2000_2019' we have to make sure that both have uniform column order and columns names.\n"
   ]
  },
  {
   "cell_type": "code",
   "execution_count": 36,
   "metadata": {},
   "outputs": [
    {
     "ename": "NameError",
     "evalue": "name 'df_list' is not defined",
     "output_type": "error",
     "traceback": [
      "\u001b[0;31m---------------------------------------------------------------------------\u001b[0m",
      "\u001b[0;31mNameError\u001b[0m                                 Traceback (most recent call last)",
      "\u001b[1;32m/home/lucjan/Documents/Projects/project_names/names_project/Names.ipynb Cell 14'\u001b[0m in \u001b[0;36m<cell line: 2>\u001b[0;34m()\u001b[0m\n\u001b[1;32m      <a href='vscode-notebook-cell:/home/lucjan/Documents/Projects/project_names/names_project/Names.ipynb#ch0000012?line=0'>1</a>\u001b[0m \u001b[39m#concatenate 4 dataframes from df_list\u001b[39;00m\n\u001b[0;32m----> <a href='vscode-notebook-cell:/home/lucjan/Documents/Projects/project_names/names_project/Names.ipynb#ch0000012?line=1'>2</a>\u001b[0m names_2020_2021 \u001b[39m=\u001b[39m pd\u001b[39m.\u001b[39mconcat(df_list)\n\u001b[1;32m      <a href='vscode-notebook-cell:/home/lucjan/Documents/Projects/project_names/names_project/Names.ipynb#ch0000012?line=2'>3</a>\u001b[0m names_2020_2021\u001b[39m.\u001b[39mshape\n",
      "\u001b[0;31mNameError\u001b[0m: name 'df_list' is not defined"
     ]
    }
   ],
   "source": [
    "#concatenate 4 dataframes from df_list\n",
    "names_2020_2021 = pd.concat(df_list)\n",
    "names_2020_2021.shape #examine shape of a new df"
   ]
  },
  {
   "cell_type": "code",
   "execution_count": null,
   "metadata": {},
   "outputs": [
    {
     "data": {
      "text/html": [
       "<div>\n",
       "<style scoped>\n",
       "    .dataframe tbody tr th:only-of-type {\n",
       "        vertical-align: middle;\n",
       "    }\n",
       "\n",
       "    .dataframe tbody tr th {\n",
       "        vertical-align: top;\n",
       "    }\n",
       "\n",
       "    .dataframe thead th {\n",
       "        text-align: right;\n",
       "    }\n",
       "</style>\n",
       "<table border=\"1\" class=\"dataframe\">\n",
       "  <thead>\n",
       "    <tr style=\"text-align: right;\">\n",
       "      <th></th>\n",
       "      <th>year</th>\n",
       "      <th>PŁEĆ</th>\n",
       "      <th>IMIĘ_PIERWSZE</th>\n",
       "      <th>LICZBA_WYSTĄPIEŃ</th>\n",
       "    </tr>\n",
       "  </thead>\n",
       "  <tbody>\n",
       "    <tr>\n",
       "      <th>0</th>\n",
       "      <td>2020</td>\n",
       "      <td>MĘŻCZYZNA</td>\n",
       "      <td>ANTONI</td>\n",
       "      <td>8368</td>\n",
       "    </tr>\n",
       "    <tr>\n",
       "      <th>1</th>\n",
       "      <td>2020</td>\n",
       "      <td>MĘŻCZYZNA</td>\n",
       "      <td>JAN</td>\n",
       "      <td>7658</td>\n",
       "    </tr>\n",
       "    <tr>\n",
       "      <th>2</th>\n",
       "      <td>2020</td>\n",
       "      <td>MĘŻCZYZNA</td>\n",
       "      <td>ALEKSANDER</td>\n",
       "      <td>7165</td>\n",
       "    </tr>\n",
       "    <tr>\n",
       "      <th>3</th>\n",
       "      <td>2020</td>\n",
       "      <td>MĘŻCZYZNA</td>\n",
       "      <td>JAKUB</td>\n",
       "      <td>7162</td>\n",
       "    </tr>\n",
       "    <tr>\n",
       "      <th>4</th>\n",
       "      <td>2020</td>\n",
       "      <td>MĘŻCZYZNA</td>\n",
       "      <td>FRANCISZEK</td>\n",
       "      <td>7124</td>\n",
       "    </tr>\n",
       "  </tbody>\n",
       "</table>\n",
       "</div>"
      ],
      "text/plain": [
       "   year       PŁEĆ IMIĘ_PIERWSZE  LICZBA_WYSTĄPIEŃ\n",
       "0  2020  MĘŻCZYZNA        ANTONI              8368\n",
       "1  2020  MĘŻCZYZNA           JAN              7658\n",
       "2  2020  MĘŻCZYZNA    ALEKSANDER              7165\n",
       "3  2020  MĘŻCZYZNA         JAKUB              7162\n",
       "4  2020  MĘŻCZYZNA    FRANCISZEK              7124"
      ]
     },
     "execution_count": 109,
     "metadata": {},
     "output_type": "execute_result"
    }
   ],
   "source": [
    "#reorder columns in 'names_2020_2021'\n",
    "names_2020_2021 = names_2020_2021[['year', 'PŁEĆ',  'IMIĘ_PIERWSZE', 'LICZBA_WYSTĄPIEŃ']]\n",
    "names_2020_2021.head() "
   ]
  },
  {
   "cell_type": "code",
   "execution_count": null,
   "metadata": {},
   "outputs": [
    {
     "data": {
      "text/html": [
       "<div>\n",
       "<style scoped>\n",
       "    .dataframe tbody tr th:only-of-type {\n",
       "        vertical-align: middle;\n",
       "    }\n",
       "\n",
       "    .dataframe tbody tr th {\n",
       "        vertical-align: top;\n",
       "    }\n",
       "\n",
       "    .dataframe thead th {\n",
       "        text-align: right;\n",
       "    }\n",
       "</style>\n",
       "<table border=\"1\" class=\"dataframe\">\n",
       "  <thead>\n",
       "    <tr style=\"text-align: right;\">\n",
       "      <th></th>\n",
       "      <th>Rok</th>\n",
       "      <th>Płeć</th>\n",
       "      <th>Imię</th>\n",
       "      <th>Liczba</th>\n",
       "    </tr>\n",
       "  </thead>\n",
       "  <tbody>\n",
       "    <tr>\n",
       "      <th>0</th>\n",
       "      <td>2000</td>\n",
       "      <td>M</td>\n",
       "      <td>JAKUB</td>\n",
       "      <td>14497</td>\n",
       "    </tr>\n",
       "    <tr>\n",
       "      <th>1</th>\n",
       "      <td>2000</td>\n",
       "      <td>M</td>\n",
       "      <td>MATEUSZ</td>\n",
       "      <td>11454</td>\n",
       "    </tr>\n",
       "    <tr>\n",
       "      <th>2</th>\n",
       "      <td>2000</td>\n",
       "      <td>M</td>\n",
       "      <td>KACPER</td>\n",
       "      <td>8898</td>\n",
       "    </tr>\n",
       "    <tr>\n",
       "      <th>3</th>\n",
       "      <td>2000</td>\n",
       "      <td>M</td>\n",
       "      <td>MICHAŁ</td>\n",
       "      <td>8498</td>\n",
       "    </tr>\n",
       "    <tr>\n",
       "      <th>4</th>\n",
       "      <td>2000</td>\n",
       "      <td>M</td>\n",
       "      <td>PATRYK</td>\n",
       "      <td>7743</td>\n",
       "    </tr>\n",
       "  </tbody>\n",
       "</table>\n",
       "</div>"
      ],
      "text/plain": [
       "    Rok Płeć     Imię  Liczba\n",
       "0  2000    M    JAKUB   14497\n",
       "1  2000    M  MATEUSZ   11454\n",
       "2  2000    M   KACPER    8898\n",
       "3  2000    M   MICHAŁ    8498\n",
       "4  2000    M   PATRYK    7743"
      ]
     },
     "execution_count": 110,
     "metadata": {},
     "output_type": "execute_result"
    }
   ],
   "source": [
    "#reorder columns in names_2000_2019\n",
    "names_2000_2019 = names_2000_2019[['Rok', 'Płeć', 'Imię', 'Liczba']]\n",
    "names_2000_2019.head()\n"
   ]
  },
  {
   "cell_type": "code",
   "execution_count": null,
   "metadata": {},
   "outputs": [
    {
     "data": {
      "text/html": [
       "<div>\n",
       "<style scoped>\n",
       "    .dataframe tbody tr th:only-of-type {\n",
       "        vertical-align: middle;\n",
       "    }\n",
       "\n",
       "    .dataframe tbody tr th {\n",
       "        vertical-align: top;\n",
       "    }\n",
       "\n",
       "    .dataframe thead th {\n",
       "        text-align: right;\n",
       "    }\n",
       "</style>\n",
       "<table border=\"1\" class=\"dataframe\">\n",
       "  <thead>\n",
       "    <tr style=\"text-align: right;\">\n",
       "      <th></th>\n",
       "      <th>year</th>\n",
       "      <th>sex</th>\n",
       "      <th>name</th>\n",
       "      <th>num</th>\n",
       "    </tr>\n",
       "  </thead>\n",
       "  <tbody>\n",
       "    <tr>\n",
       "      <th>0</th>\n",
       "      <td>2020</td>\n",
       "      <td>MĘŻCZYZNA</td>\n",
       "      <td>ANTONI</td>\n",
       "      <td>8368</td>\n",
       "    </tr>\n",
       "    <tr>\n",
       "      <th>1</th>\n",
       "      <td>2020</td>\n",
       "      <td>MĘŻCZYZNA</td>\n",
       "      <td>JAN</td>\n",
       "      <td>7658</td>\n",
       "    </tr>\n",
       "    <tr>\n",
       "      <th>2</th>\n",
       "      <td>2020</td>\n",
       "      <td>MĘŻCZYZNA</td>\n",
       "      <td>ALEKSANDER</td>\n",
       "      <td>7165</td>\n",
       "    </tr>\n",
       "    <tr>\n",
       "      <th>3</th>\n",
       "      <td>2020</td>\n",
       "      <td>MĘŻCZYZNA</td>\n",
       "      <td>JAKUB</td>\n",
       "      <td>7162</td>\n",
       "    </tr>\n",
       "    <tr>\n",
       "      <th>4</th>\n",
       "      <td>2020</td>\n",
       "      <td>MĘŻCZYZNA</td>\n",
       "      <td>FRANCISZEK</td>\n",
       "      <td>7124</td>\n",
       "    </tr>\n",
       "  </tbody>\n",
       "</table>\n",
       "</div>"
      ],
      "text/plain": [
       "   year        sex        name   num\n",
       "0  2020  MĘŻCZYZNA      ANTONI  8368\n",
       "1  2020  MĘŻCZYZNA         JAN  7658\n",
       "2  2020  MĘŻCZYZNA  ALEKSANDER  7165\n",
       "3  2020  MĘŻCZYZNA       JAKUB  7162\n",
       "4  2020  MĘŻCZYZNA  FRANCISZEK  7124"
      ]
     },
     "execution_count": 111,
     "metadata": {},
     "output_type": "execute_result"
    }
   ],
   "source": [
    "#change column names to English in 'names_2020_2021'\n",
    "#create dictionary for names_2020_2021. Key = old name, value = new name\n",
    "names_dict_2020_2021 = {'IMIĘ_PIERWSZE': 'name', 'PŁEĆ': 'sex', 'LICZBA_WYSTĄPIEŃ': 'num'}\n",
    "#rename column \n",
    "names_2020_2021.rename(columns = names_dict_2020_2021, inplace = True)\n",
    "names_2020_2021.head()"
   ]
  },
  {
   "cell_type": "code",
   "execution_count": null,
   "metadata": {},
   "outputs": [
    {
     "data": {
      "text/html": [
       "<div>\n",
       "<style scoped>\n",
       "    .dataframe tbody tr th:only-of-type {\n",
       "        vertical-align: middle;\n",
       "    }\n",
       "\n",
       "    .dataframe tbody tr th {\n",
       "        vertical-align: top;\n",
       "    }\n",
       "\n",
       "    .dataframe thead th {\n",
       "        text-align: right;\n",
       "    }\n",
       "</style>\n",
       "<table border=\"1\" class=\"dataframe\">\n",
       "  <thead>\n",
       "    <tr style=\"text-align: right;\">\n",
       "      <th></th>\n",
       "      <th>year</th>\n",
       "      <th>sex</th>\n",
       "      <th>name</th>\n",
       "      <th>num</th>\n",
       "    </tr>\n",
       "  </thead>\n",
       "  <tbody>\n",
       "    <tr>\n",
       "      <th>0</th>\n",
       "      <td>2000</td>\n",
       "      <td>M</td>\n",
       "      <td>JAKUB</td>\n",
       "      <td>14497</td>\n",
       "    </tr>\n",
       "    <tr>\n",
       "      <th>1</th>\n",
       "      <td>2000</td>\n",
       "      <td>M</td>\n",
       "      <td>MATEUSZ</td>\n",
       "      <td>11454</td>\n",
       "    </tr>\n",
       "    <tr>\n",
       "      <th>2</th>\n",
       "      <td>2000</td>\n",
       "      <td>M</td>\n",
       "      <td>KACPER</td>\n",
       "      <td>8898</td>\n",
       "    </tr>\n",
       "    <tr>\n",
       "      <th>3</th>\n",
       "      <td>2000</td>\n",
       "      <td>M</td>\n",
       "      <td>MICHAŁ</td>\n",
       "      <td>8498</td>\n",
       "    </tr>\n",
       "    <tr>\n",
       "      <th>4</th>\n",
       "      <td>2000</td>\n",
       "      <td>M</td>\n",
       "      <td>PATRYK</td>\n",
       "      <td>7743</td>\n",
       "    </tr>\n",
       "  </tbody>\n",
       "</table>\n",
       "</div>"
      ],
      "text/plain": [
       "   year sex     name    num\n",
       "0  2000   M    JAKUB  14497\n",
       "1  2000   M  MATEUSZ  11454\n",
       "2  2000   M   KACPER   8898\n",
       "3  2000   M   MICHAŁ   8498\n",
       "4  2000   M   PATRYK   7743"
      ]
     },
     "execution_count": 112,
     "metadata": {},
     "output_type": "execute_result"
    }
   ],
   "source": [
    "#change column names to English in 'names_2000_2019'\n",
    "#create dictionary for names_2000_2019. Key = old name, value = new name\n",
    "names_dict_2000_2019 = {'Rok': 'year', 'Imię': 'name', 'Płeć': 'sex', 'Liczba': 'num'}\n",
    "#rename names_2000_2019\n",
    "names_2000_2019.rename(columns = names_dict_2000_2019, inplace = True)\n",
    "names_2000_2019.head()"
   ]
  },
  {
   "cell_type": "code",
   "execution_count": null,
   "metadata": {},
   "outputs": [
    {
     "data": {
      "text/plain": [
       "(27741, 4)"
      ]
     },
     "execution_count": 113,
     "metadata": {},
     "output_type": "execute_result"
    }
   ],
   "source": [
    "#concatenate two dfs into names_2000_2021\n",
    "names_2000_2021 = pd.concat([names_2000_2019, names_2020_2021])\n",
    "names_2000_2021.shape"
   ]
  },
  {
   "cell_type": "code",
   "execution_count": null,
   "metadata": {},
   "outputs": [
    {
     "data": {
      "text/plain": [
       "K            12352\n",
       "M            12109\n",
       "MĘŻCZYZNA     1659\n",
       "KOBIETA       1621\n",
       "Name: sex, dtype: int64"
      ]
     },
     "execution_count": 114,
     "metadata": {},
     "output_type": "execute_result"
    }
   ],
   "source": [
    "#now as we finally have one dataframe contaning all data\n",
    "#how many unique value are in the 'sex' column?\n",
    "names_2000_2021['sex'].value_counts()"
   ]
  },
  {
   "cell_type": "code",
   "execution_count": null,
   "metadata": {},
   "outputs": [
    {
     "data": {
      "text/plain": [
       "F    13973\n",
       "M    13768\n",
       "Name: sex, dtype: int64"
      ]
     },
     "execution_count": 115,
     "metadata": {},
     "output_type": "execute_result"
    }
   ],
   "source": [
    "#there should be only two values in 'sex' column: 'M' for male and 'F' for female.\n",
    "names_2000_2021.loc[names_2000_2021['sex'] == 'MĘŻCZYZNA', 'sex'] = 'M' #males\n",
    "names_2000_2021.loc[names_2000_2021['sex'] != 'M', 'sex'] = 'F' #change everything besides 'M' to 'F'\n",
    "names_2000_2021['sex'].value_counts() #how many unique values are in the 'sex' column now?"
   ]
  },
  {
   "cell_type": "code",
   "execution_count": null,
   "metadata": {},
   "outputs": [],
   "source": [
    "#sort values by year ascending and then num descending\n",
    "names_2000_2021.sort_values(by = ['year', 'num'], ascending = [True, False], inplace = True)"
   ]
  },
  {
   "cell_type": "code",
   "execution_count": null,
   "metadata": {},
   "outputs": [
    {
     "data": {
      "text/html": [
       "<div>\n",
       "<style scoped>\n",
       "    .dataframe tbody tr th:only-of-type {\n",
       "        vertical-align: middle;\n",
       "    }\n",
       "\n",
       "    .dataframe tbody tr th {\n",
       "        vertical-align: top;\n",
       "    }\n",
       "\n",
       "    .dataframe thead th {\n",
       "        text-align: right;\n",
       "    }\n",
       "</style>\n",
       "<table border=\"1\" class=\"dataframe\">\n",
       "  <thead>\n",
       "    <tr style=\"text-align: right;\">\n",
       "      <th></th>\n",
       "      <th>year</th>\n",
       "      <th>sex</th>\n",
       "      <th>name</th>\n",
       "      <th>num</th>\n",
       "    </tr>\n",
       "  </thead>\n",
       "  <tbody>\n",
       "    <tr>\n",
       "      <th>0</th>\n",
       "      <td>2000</td>\n",
       "      <td>M</td>\n",
       "      <td>JAKUB</td>\n",
       "      <td>14497</td>\n",
       "    </tr>\n",
       "    <tr>\n",
       "      <th>1</th>\n",
       "      <td>2000</td>\n",
       "      <td>F</td>\n",
       "      <td>NATALIA</td>\n",
       "      <td>11511</td>\n",
       "    </tr>\n",
       "    <tr>\n",
       "      <th>2</th>\n",
       "      <td>2000</td>\n",
       "      <td>M</td>\n",
       "      <td>MATEUSZ</td>\n",
       "      <td>11454</td>\n",
       "    </tr>\n",
       "    <tr>\n",
       "      <th>3</th>\n",
       "      <td>2000</td>\n",
       "      <td>F</td>\n",
       "      <td>ALEKSANDRA</td>\n",
       "      <td>10940</td>\n",
       "    </tr>\n",
       "    <tr>\n",
       "      <th>4</th>\n",
       "      <td>2000</td>\n",
       "      <td>F</td>\n",
       "      <td>WIKTORIA</td>\n",
       "      <td>10144</td>\n",
       "    </tr>\n",
       "    <tr>\n",
       "      <th>...</th>\n",
       "      <td>...</td>\n",
       "      <td>...</td>\n",
       "      <td>...</td>\n",
       "      <td>...</td>\n",
       "    </tr>\n",
       "    <tr>\n",
       "      <th>27731</th>\n",
       "      <td>2021</td>\n",
       "      <td>F</td>\n",
       "      <td>AMÁLIA</td>\n",
       "      <td>2</td>\n",
       "    </tr>\n",
       "    <tr>\n",
       "      <th>27732</th>\n",
       "      <td>2021</td>\n",
       "      <td>F</td>\n",
       "      <td>NITA</td>\n",
       "      <td>2</td>\n",
       "    </tr>\n",
       "    <tr>\n",
       "      <th>27733</th>\n",
       "      <td>2021</td>\n",
       "      <td>F</td>\n",
       "      <td>LOTTA</td>\n",
       "      <td>2</td>\n",
       "    </tr>\n",
       "    <tr>\n",
       "      <th>27734</th>\n",
       "      <td>2021</td>\n",
       "      <td>F</td>\n",
       "      <td>KYLIE</td>\n",
       "      <td>2</td>\n",
       "    </tr>\n",
       "    <tr>\n",
       "      <th>27735</th>\n",
       "      <td>2021</td>\n",
       "      <td>F</td>\n",
       "      <td>MATILDE</td>\n",
       "      <td>2</td>\n",
       "    </tr>\n",
       "  </tbody>\n",
       "</table>\n",
       "<p>27736 rows × 4 columns</p>\n",
       "</div>"
      ],
      "text/plain": [
       "       year sex        name    num\n",
       "0      2000   M       JAKUB  14497\n",
       "1      2000   F     NATALIA  11511\n",
       "2      2000   M     MATEUSZ  11454\n",
       "3      2000   F  ALEKSANDRA  10940\n",
       "4      2000   F    WIKTORIA  10144\n",
       "...     ...  ..         ...    ...\n",
       "27731  2021   F      AMÁLIA      2\n",
       "27732  2021   F        NITA      2\n",
       "27733  2021   F       LOTTA      2\n",
       "27734  2021   F       KYLIE      2\n",
       "27735  2021   F     MATILDE      2\n",
       "\n",
       "[27736 rows x 4 columns]"
      ]
     },
     "execution_count": 117,
     "metadata": {},
     "output_type": "execute_result"
    }
   ],
   "source": [
    "#index has to reseted after concatenation\n",
    "names_2000_2021.reset_index(inplace = True, drop = True)\n",
    "names_2000_2021.head(-5)"
   ]
  },
  {
   "cell_type": "code",
   "execution_count": null,
   "metadata": {},
   "outputs": [
    {
     "data": {
      "text/html": [
       "<div>\n",
       "<style scoped>\n",
       "    .dataframe tbody tr th:only-of-type {\n",
       "        vertical-align: middle;\n",
       "    }\n",
       "\n",
       "    .dataframe tbody tr th {\n",
       "        vertical-align: top;\n",
       "    }\n",
       "\n",
       "    .dataframe thead th {\n",
       "        text-align: right;\n",
       "    }\n",
       "</style>\n",
       "<table border=\"1\" class=\"dataframe\">\n",
       "  <thead>\n",
       "    <tr style=\"text-align: right;\">\n",
       "      <th></th>\n",
       "      <th>year</th>\n",
       "      <th>sex</th>\n",
       "      <th>name</th>\n",
       "      <th>num</th>\n",
       "      <th>sum_num</th>\n",
       "      <th>min_num</th>\n",
       "      <th>max_num</th>\n",
       "    </tr>\n",
       "  </thead>\n",
       "  <tbody>\n",
       "    <tr>\n",
       "      <th>0</th>\n",
       "      <td>2000</td>\n",
       "      <td>M</td>\n",
       "      <td>JAKUB</td>\n",
       "      <td>14497</td>\n",
       "      <td>280045</td>\n",
       "      <td>6427</td>\n",
       "      <td>18612</td>\n",
       "    </tr>\n",
       "    <tr>\n",
       "      <th>1</th>\n",
       "      <td>2000</td>\n",
       "      <td>F</td>\n",
       "      <td>NATALIA</td>\n",
       "      <td>11511</td>\n",
       "      <td>151964</td>\n",
       "      <td>2228</td>\n",
       "      <td>11511</td>\n",
       "    </tr>\n",
       "    <tr>\n",
       "      <th>2</th>\n",
       "      <td>2000</td>\n",
       "      <td>M</td>\n",
       "      <td>MATEUSZ</td>\n",
       "      <td>11454</td>\n",
       "      <td>145417</td>\n",
       "      <td>1447</td>\n",
       "      <td>11454</td>\n",
       "    </tr>\n",
       "    <tr>\n",
       "      <th>3</th>\n",
       "      <td>2000</td>\n",
       "      <td>F</td>\n",
       "      <td>ALEKSANDRA</td>\n",
       "      <td>10940</td>\n",
       "      <td>150424</td>\n",
       "      <td>2846</td>\n",
       "      <td>10940</td>\n",
       "    </tr>\n",
       "    <tr>\n",
       "      <th>4</th>\n",
       "      <td>2000</td>\n",
       "      <td>F</td>\n",
       "      <td>WIKTORIA</td>\n",
       "      <td>10144</td>\n",
       "      <td>173878</td>\n",
       "      <td>3147</td>\n",
       "      <td>11885</td>\n",
       "    </tr>\n",
       "  </tbody>\n",
       "</table>\n",
       "</div>"
      ],
      "text/plain": [
       "   year sex        name    num  sum_num  min_num  max_num\n",
       "0  2000   M       JAKUB  14497   280045     6427    18612\n",
       "1  2000   F     NATALIA  11511   151964     2228    11511\n",
       "2  2000   M     MATEUSZ  11454   145417     1447    11454\n",
       "3  2000   F  ALEKSANDRA  10940   150424     2846    10940\n",
       "4  2000   F    WIKTORIA  10144   173878     3147    11885"
      ]
     },
     "execution_count": 118,
     "metadata": {},
     "output_type": "execute_result"
    }
   ],
   "source": [
    "#add columns for each name\n",
    "#when grouping, it has to be done not only by 'name' but also by 'sex' because some names like Nicola or Alex can be found for both sexes\n",
    "\n",
    "names_2000_2021['sum_num'] = names_2000_2021.groupby(['name', 'sex'])['num'].transform('sum') #add sum num column\n",
    "names_2000_2021['min_num'] = names_2000_2021.groupby(['name', 'sex'])['num'].transform('min') #add minimal num column\n",
    "names_2000_2021['max_num'] = names_2000_2021.groupby(['name', 'sex'])['num'].transform('max') #add maximal num columns\n",
    "names_2000_2021.head()"
   ]
  },
  {
   "cell_type": "markdown",
   "metadata": {},
   "source": [
    "TOP 10: MOST POPULAR NAMES\n",
    "\n",
    "Lets' now see which names were given the most frequently from 2000 to 2021."
   ]
  },
  {
   "cell_type": "code",
   "execution_count": null,
   "metadata": {},
   "outputs": [
    {
     "name": "stdout",
     "output_type": "stream",
     "text": [
      "          name  sum_num\n",
      "0        JAKUB   280045\n",
      "5        JULIA   260102\n",
      "7       KACPER   191590\n",
      "36     ZUZANNA   178812\n",
      "4     WIKTORIA   173878\n",
      "18      SZYMON   158306\n",
      "76        MAJA   153976\n",
      "1      NATALIA   151964\n",
      "3   ALEKSANDRA   150424\n",
      "2      MATEUSZ   145417\n"
     ]
    }
   ],
   "source": [
    "#create a subset 'top_10'\n",
    "top_10 = names_2000_2021[['name', 'sum_num']].drop_duplicates() #choose only 'name' and 'sum_num' from 'names_2000_2021', drop duplicate rows\n",
    "top_10 = top_10.sort_values(by = 'sum_num', ascending=False)[:10] #sort rows by 'sum_num\" descending and choose top 10\n",
    "print(top_10)"
   ]
  },
  {
   "cell_type": "code",
   "execution_count": null,
   "metadata": {},
   "outputs": [
    {
     "data": {
      "image/png": "[encoded data removed]",
      "text/plain": [
       "<Figure size 864x432 with 1 Axes>"
      ]
     },
     "metadata": {},
     "output_type": "display_data"
    }
   ],
   "source": [
    "#create a bar plot\n",
    "title_top_10 = \"Most frequently given names in Poland (2000-2021)\"\n",
    "sns.set_style(\"white\")\n",
    "sns.catplot(data = top_10, x = 'name', y = 'sum_num', kind = 'bar', height=6, aspect=16/8, palette = 'colorblind').set(title = title_top_10)\n",
    "plt.xticks(rotation = 45) #rotate x labels by 45 degrees\n",
    "plt.show()\n"
   ]
  },
  {
   "cell_type": "markdown",
   "metadata": {},
   "source": [
    "RISE AND FALL OF JAKUB AND JULIA\n",
    "\n",
    "We can see that two names dominate the scene: Jakub and Julia (with more than 250k occurences)."
   ]
  },
  {
   "cell_type": "code",
   "execution_count": null,
   "metadata": {},
   "outputs": [],
   "source": [
    "#choose only data for name 'Jakub'\n",
    "data_jakub = names_2000_2021.loc[names_2000_2021['name'] == 'JAKUB'] \n",
    "#choose only data for name 'Julia'\n",
    "data_julia = names_2000_2021.loc[names_2000_2021['name'] == 'JULIA'] "
   ]
  },
  {
   "cell_type": "code",
   "execution_count": null,
   "metadata": {},
   "outputs": [
    {
     "data": {
      "image/png": "[encoded data removed]",
      "text/plain": [
       "<Figure size 1296x360 with 2 Axes>"
      ]
     },
     "metadata": {},
     "output_type": "display_data"
    }
   ],
   "source": [
    "#create function for subplot creation\n",
    "def subplot_func(data1, x1, y1, title1, data2, x2, y2, title2, color):\n",
    "    '''creates 2 pointplots with common y axis\n",
    "    takes following as parameters: data1, x1, y1, title1, data2, x2, y2, title2, color'''\n",
    "    #create 2 axes objects\n",
    "    fig, (ax0, ax1) = plt.subplots(nrows=1, ncols=2, figsize = (18,5), sharey = True) #two subplots with shared y axis\n",
    "    sns.pointplot(data = data1, x = x1, y = y1, ci = None, ax = ax0, color = color) #create pointplot data1\n",
    "    ax0.set(title = title1)\n",
    "    ax0.tick_params('x', labelrotation = 90)\n",
    "    sns.pointplot(data = data2, x = x2, y = y2, ci = None, ax = ax1, color = color) #pointplot data2\n",
    "    ax1.set(title = title2, ylabel = None)\n",
    "    ax1.tick_params('x', labelrotation = 90)\n",
    "    sns.set_style('whitegrid') #set style of plots\n",
    "    plt.show()\n",
    "\n",
    "#run subplot_func to create graph for JAKUB and JULIA\n",
    "subplot_func(data_jakub, 'year', 'num', 'JAKUB', data_julia, 'year', 'num', 'JULIA', color = 'blue')"
   ]
  },
  {
   "cell_type": "markdown",
   "metadata": {},
   "source": [
    "We can see that both Jakub and Julia were already very popular in year 2000. Their popularity peaked in 2001 and 2008 respectively. After that a decreasing trend can be observed.\n",
    "Can this decrease be accounted only to popularity drop?\n",
    "Or maybe fewer children have been born in recent years?\n",
    "To answer this we need to calculate total number of names given per year."
   ]
  },
  {
   "cell_type": "code",
   "execution_count": null,
   "metadata": {},
   "outputs": [
    {
     "data": {
      "image/png": "[encoded data removed]",
      "text/plain": [
       "<Figure size 864x432 with 1 Axes>"
      ]
     },
     "metadata": {},
     "output_type": "display_data"
    }
   ],
   "source": [
    "#create 'year_sum_num' column: sum of names given each year.\n",
    "names_2000_2021['year_sum_num'] = names_2000_2021.groupby('year')['num'].transform('sum')\n",
    "#create a subset 'year_total'\n",
    "year_total = names_2000_2021[['year', 'year_sum_num']].drop_duplicates()\n",
    "#create a pointplot\n",
    "plt.figure(figsize = (12,6))\n",
    "sns.pointplot(data = year_total, x = 'year', y = 'year_sum_num', ci = None, color = 'grey').set(title = \"Sum of names given each year\") \n",
    "plt.xticks(rotation = 90)\n",
    "plt.show()"
   ]
  },
  {
   "cell_type": "markdown",
   "metadata": {},
   "source": [
    "It is clear now that the sum of names given each each fluctuates heavily. Value for year 2008 and 2021 differ by more than 100k!\n",
    "Above graph corresponds to the graph of Julias per year. On both, peaks in 2017 can be observed.\n",
    "So, it's probably not that Julia's popularity has increased again in 2017. Just more babies were born that year."
   ]
  },
  {
   "cell_type": "markdown",
   "metadata": {},
   "source": [
    "MOST STABLE AND LEAST STABLE\n",
    "\n",
    "To understand which names are the most stable and which are the least, we need to calculate, for each name, ratio between maximum number of occurences and minimum number of occurences."
   ]
  },
  {
   "cell_type": "code",
   "execution_count": null,
   "metadata": {},
   "outputs": [],
   "source": [
    "#create column: ratio of max_num to min_num 'ratio_max_min'\n",
    "names_2000_2021['ratio_max_min'] = names_2000_2021['max_num'] / names_2000_2021['min_num']"
   ]
  },
  {
   "cell_type": "code",
   "execution_count": null,
   "metadata": {},
   "outputs": [
    {
     "name": "stdout",
     "output_type": "stream",
     "text": [
      "         name  sum_num  ratio_max_min\n",
      "55   GABRIELA    66182       1.661739\n",
      "124      EMIL     9066       1.773333\n",
      "73      ARTUR    20274       1.830579\n",
      "112   URSZULA    10831       1.882857\n",
      "38       ADAM    96397       1.934337\n",
      "79       SARA    18451       1.940217\n",
      "153    MARIKA     7998       2.000000\n",
      "109    DOROTA     8484       2.015748\n",
      "18     SZYMON   158306       2.094921\n",
      "45     HUBERT    50068       2.107378\n"
     ]
    }
   ],
   "source": [
    "#create a 'stability_subset' of data to find the most and least stable names\n",
    "stability_subset = names_2000_2021[['name', 'sum_num', 'ratio_max_min']].drop_duplicates() #choose only 'name', 'sum_num' and 'ratio_max_min' from 'names_2000_2021' drop duplicates\n",
    "stability_subset = stability_subset.loc[stability_subset['sum_num'] > 5000] #filter only for names that have more than 5000 occurences\n",
    "most_stable = stability_subset.sort_values(by = 'ratio_max_min', ascending=True)[:10] #find 10 names with the lowest 'ratio_max_min'\n",
    "print(most_stable)"
   ]
  },
  {
   "cell_type": "code",
   "execution_count": null,
   "metadata": {},
   "outputs": [
    {
     "name": "stdout",
     "output_type": "stream",
     "text": [
      "          name  sum_num  ratio_max_min\n",
      "1584       MIA     6809     229.000000\n",
      "320       LEON    37389     165.500000\n",
      "299      TYMON    32062     114.054054\n",
      "368       NELA    12630     109.250000\n",
      "187       LENA   118439      98.885246\n",
      "61    ANGELIKA    12062      82.600000\n",
      "194     AMELIA   113463      69.356522\n",
      "271    LILIANA    32926      66.716981\n",
      "363   LILIANNA    11512      64.304348\n",
      "222     IGNACY    30870      56.779221\n"
     ]
    }
   ],
   "source": [
    "least_stable = stability_subset.sort_values(by = 'ratio_max_min', ascending=False)[:10] #find 10 names with the highest 'ratio_max_min'\n",
    "print(least_stable)"
   ]
  },
  {
   "cell_type": "markdown",
   "metadata": {},
   "source": [
    "We can see that GARBIELA and EMIL lead the way in the most stable names. On the other hand, the least stable are MIA and LEON.\n",
    "Let's put them on a graph together."
   ]
  },
  {
   "cell_type": "code",
   "execution_count": null,
   "metadata": {},
   "outputs": [
    {
     "data": {
      "image/png": "[encoded data removed]",
      "text/plain": [
       "<Figure size 1296x360 with 2 Axes>"
      ]
     },
     "metadata": {},
     "output_type": "display_data"
    }
   ],
   "source": [
    "#choose only data for name 'GARBIELA'\n",
    "data_gabriela = names_2000_2021.loc[names_2000_2021['name'] == 'GABRIELA']\n",
    "#choose only data for name 'LEON'\n",
    "data_leon = names_2000_2021.loc[names_2000_2021['name'] == 'LEON']\n",
    "#create a subplot\n",
    "subplot_func(data_gabriela, 'year', 'num', 'GABRIELA', data_leon, 'year', 'num', 'LEON', color = 'red')"
   ]
  },
  {
   "cell_type": "code",
   "execution_count": null,
   "metadata": {},
   "outputs": [
    {
     "data": {
      "image/png": "[encoded data removed]",
      "text/plain": [
       "<Figure size 1296x360 with 2 Axes>"
      ]
     },
     "metadata": {},
     "output_type": "display_data"
    }
   ],
   "source": [
    "#choose only data for name 'MIA'\n",
    "data_mia = names_2000_2021.loc[names_2000_2021['name'] == 'MIA']\n",
    "#choose only data for name 'EMIL'\n",
    "data_emil = names_2000_2021.loc[names_2000_2021['name'] == 'EMIL']\n",
    "#create a subplot\n",
    "subplot_func(data_mia, 'year', 'num', 'MIA', data_emil, 'year', 'num', 'EMIL', color = 'orange')"
   ]
  }
 ],
 "metadata": {
  "interpreter": {
   "hash": "54d743999b97af7e25e24f5e2c01b9a9b0b3cbbd759f10daa4053efd4ce480a8"
  },
  "kernelspec": {
   "display_name": "Python 3.9.7 ('base')",
   "language": "python",
   "name": "python3"
  },
  "language_info": {
   "codemirror_mode": {
    "name": "ipython",
    "version": 3
   },
   "file_extension": ".py",
   "mimetype": "text/x-python",
   "name": "python",
   "nbconvert_exporter": "python",
   "pygments_lexer": "ipython3",
   "version": "3.8.10"
  },
  "orig_nbformat": 4
 },
 "nbformat": 4,
 "nbformat_minor": 2
}
